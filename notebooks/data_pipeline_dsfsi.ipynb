{
 "cells": [
  {
   "cell_type": "markdown",
   "metadata": {},
   "source": [
    "## Overview"
   ]
  },
  {
   "cell_type": "markdown",
   "metadata": {},
   "source": [
    "#### This note book is a pipline connecting to the git hub repository: https://github.com/dsfsi/covid19africa and extrating the following data related to the corona virus"
   ]
  },
  {
   "cell_type": "markdown",
   "metadata": {},
   "source": [
    "1. Number of tests performed daily \n",
    "2. The Provincial case breakdown for South Africa"
   ]
  },
  {
   "cell_type": "markdown",
   "metadata": {},
   "source": [
    "### Licence"
   ]
  },
  {
   "cell_type": "markdown",
   "metadata": {},
   "source": [
    "\\https://github.com/dsfsi/covid19za/blob/master/data/LICENSE.md"
   ]
  },
  {
   "cell_type": "markdown",
   "metadata": {},
   "source": [
    "\n",
    "\n",
    "\n",
    "\n",
    "\n",
    "\n",
    "\n",
    "\n"
   ]
  },
  {
   "cell_type": "markdown",
   "metadata": {},
   "source": [
    "#### Import Database Structure\n",
    "This is the SQL database structure used\n"
   ]
  },
  {
   "cell_type": "code",
   "execution_count": 1,
   "metadata": {},
   "outputs": [],
   "source": [
    "from database import model as m\n",
    "import numpy as np\n",
    "import pandas as pd"
   ]
  },
  {
   "cell_type": "markdown",
   "metadata": {},
   "source": [
    "#### Connect to database\n",
    "RDS SQL Server Data Base"
   ]
  },
  {
   "cell_type": "code",
   "execution_count": 2,
   "metadata": {},
   "outputs": [],
   "source": [
    "from sqlalchemy import create_engine\n",
    "from sqlalchemy.orm import sessionmaker\n",
    "import pandas as pd\n",
    "\n",
    "secret = {\n",
    "    \"username\": \"admin\",\n",
    "    \"password\": \"DRgPXv9mLuF0fsplWnox\",\n",
    "    \"host\": \"database-2.cnzbp4ndrpos.eu-west-1.rds.amazonaws.com\",\n",
    "    \"port\": \"1433\"\n",
    "}\n",
    "\n",
    "engine = create_engine(\n",
    "    'mssql+pymssql://' +\n",
    "    secret['username'] + ':' + secret['password'] + '@' + secret['host'] + ':' +\n",
    "    str(secret['port']) + '/Corona'\n",
    "\n",
    ")\n",
    "\n",
    "session = sessionmaker()(bind=engine)"
   ]
  },
  {
   "cell_type": "markdown",
   "metadata": {},
   "source": [
    "#### Get Data"
   ]
  },
  {
   "cell_type": "code",
   "execution_count": 3,
   "metadata": {},
   "outputs": [],
   "source": [
    "df_tests = pd.read_csv(\"https://raw.githubusercontent.com/dsfsi/covid19za/master/data/covid19za_timeline_testing.csv\")\n",
    "df_provices = pd.read_csv(\"https://raw.githubusercontent.com/dsfsi/covid19za/master/data/covid19za_provincial_cumulative_timeline_confirmed.csv\")"
   ]
  },
  {
   "cell_type": "markdown",
   "metadata": {},
   "source": [
    "#### Clean data"
   ]
  },
  {
   "cell_type": "markdown",
   "metadata": {},
   "source": [
    "##### 1. Clean Test Data"
   ]
  },
  {
   "cell_type": "code",
   "execution_count": 4,
   "metadata": {},
   "outputs": [],
   "source": [
    "df_tests[\"date\"] = df_tests[\"date\"].apply(lambda x:pd.to_datetime(x))\n",
    "\n",
    "def error(x):\n",
    "    if pd.isnull(x):\n",
    "        return 0\n",
    "    else:\n",
    "        return x\n",
    "    \n",
    "df_tests[\"cumulative_tests\"] = df_tests.cumulative_tests.apply(lambda x: error(x))"
   ]
  },
  {
   "cell_type": "markdown",
   "metadata": {},
   "source": [
    "##### 2. Clean Provincial Data"
   ]
  },
  {
   "cell_type": "code",
   "execution_count": 5,
   "metadata": {},
   "outputs": [],
   "source": [
    "df_provices[\"date\"] = pd.to_datetime(df_provices[\"date\"], dayfirst=True)\n",
    "df_provices = df_provices.melt(id_vars = [\"date\",\"YYYYMMDD\"])"
   ]
  },
  {
   "cell_type": "markdown",
   "metadata": {},
   "source": [
    "#### Upload data To SQL"
   ]
  },
  {
   "cell_type": "markdown",
   "metadata": {},
   "source": [
    "##### 1. Upload Test Data"
   ]
  },
  {
   "cell_type": "code",
   "execution_count": null,
   "metadata": {},
   "outputs": [],
   "source": [
    "Upload_Country = \"South Africa\"\n",
    "\n",
    "for i in range(len(df_tests)):\n",
    "    \n",
    "    ## Check Country exisits\n",
    "    Country = session.query(m.Country).filter(m.Country.country == Upload_Country).first()\n",
    "    if Country is None:\n",
    "        Print(\"Country Not Found\")\n",
    "\n",
    "    Tests = m.Tests( \n",
    "                        date = df_tests[\"date\"][i],\n",
    "                        cumulative_tests = int(df_tests[\"cumulative_tests\"][i]),\n",
    "                        country_id = Country.id\n",
    "    )\n",
    "    \n",
    "    session.add(Tests)\n",
    "\n",
    "session.commit()\n",
    "session.close()"
   ]
  },
  {
   "cell_type": "markdown",
   "metadata": {},
   "source": [
    "##### 2. Upload Provincial Data"
   ]
  },
  {
   "cell_type": "code",
   "execution_count": 12,
   "metadata": {},
   "outputs": [],
   "source": [
    "Upload_Country = \"South Africa\"\n",
    "level = \"Provincial\"\n",
    "conf_int_list = [int(x)  if np.isnan(x) == False else np.nan for x in df_provices[\"value\"]]\n",
    "conf_series = pd.Series(conf_int_list)\n",
    "clean_conf = conf_series.astype(object).where(pd.notnull(conf_series), None)\n",
    "Upload_Country_id = session.query(m.Country).filter(m.Country.country == Upload_Country).first().id\n",
    "\n",
    "for i in range(len(df_provices)):\n",
    "    \n",
    "    ## Check Country exisits\n",
    "    Location = session.query(m.Location).filter(m.Location.location == df_provices[\"variable\"][i]).first()\n",
    "    if Location is None:\n",
    "        Location = m.Location(country_id = Upload_Country_id,\n",
    "                              location = df_provices[\"variable\"][i],\n",
    "                              location_level = level)\n",
    "        session.add(Location)\n",
    "        session.commit()\n",
    "\n",
    "    \n",
    "    CasesLocal = m.CasesLocal( \n",
    "                    date = df_provices[\"date\"][i],\n",
    "                    confirmed = clean_conf[i],\n",
    "                    location_id = Location.id\n",
    "    )\n",
    "    session.add(CasesLocal)\n",
    "    session.commit()\n",
    "    \n",
    "\n",
    "session.commit()\n",
    "session.close()"
   ]
  },
  {
   "cell_type": "code",
   "execution_count": null,
   "metadata": {},
   "outputs": [],
   "source": []
  }
 ],
 "metadata": {
  "kernelspec": {
   "display_name": "Python 3",
   "language": "python",
   "name": "python3"
  },
  "language_info": {
   "codemirror_mode": {
    "name": "ipython",
    "version": 3
   },
   "file_extension": ".py",
   "mimetype": "text/x-python",
   "name": "python",
   "nbconvert_exporter": "python",
   "pygments_lexer": "ipython3",
   "version": "3.7.4"
  }
 },
 "nbformat": 4,
 "nbformat_minor": 4
}
