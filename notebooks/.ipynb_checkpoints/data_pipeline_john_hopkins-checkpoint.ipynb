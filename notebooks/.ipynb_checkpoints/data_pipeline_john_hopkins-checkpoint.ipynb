{
 "cells": [
  {
   "cell_type": "markdown",
   "metadata": {},
   "source": [
    "## Overview"
   ]
  },
  {
   "cell_type": "markdown",
   "metadata": {},
   "source": [
    "#### This note book is a pipline connecting to the git hub repository: https://github.com/CSSEGISandData/COVID-19 and extrating the following data related to the corona virus"
   ]
  },
  {
   "cell_type": "markdown",
   "metadata": {},
   "source": [
    "1. Country Level Confirmed Cases Per Day\n",
    "2. Country Level Deaths Per Day"
   ]
  },
  {
   "cell_type": "markdown",
   "metadata": {},
   "source": [
    "### Terms of use:"
   ]
  },
  {
   "cell_type": "markdown",
   "metadata": {},
   "source": [
    "This GitHub repo and its contents herein, including all data, mapping, and analysis, copyright 2020 Johns Hopkins University, all rights reserved, is provided to the public strictly for educational and academic research purposes. The Website relies upon publicly available data from multiple sources, that do not always agree. The Johns Hopkins University hereby disclaims any and all representations and warranties with respect to the Website, including accuracy, fitness for use, and merchantability. Reliance on the Website for medical guidance or use of the Website in commerce is strictly prohibited."
   ]
  },
  {
   "cell_type": "markdown",
   "metadata": {},
   "source": [
    "#### Import Database Structure\n",
    "This is the SQL database structure used\n"
   ]
  },
  {
   "cell_type": "code",
   "execution_count": 1,
   "metadata": {},
   "outputs": [],
   "source": [
    "from database import model as m"
   ]
  },
  {
   "cell_type": "markdown",
   "metadata": {},
   "source": [
    "#### Connect to database\n",
    "RDS SQL Server Data Base"
   ]
  },
  {
   "cell_type": "code",
   "execution_count": null,
   "metadata": {},
   "outputs": [],
   "source": [
    "from sqlalchemy import create_engine\n",
    "from sqlalchemy.orm import sessionmaker\n",
    "import pandas as pd\n",
    "\n",
    "secret = {\n",
    "    \"username\": \"admin\",\n",
    "    \"password\": \"\",\n",
    "    \"host\": \"database-1.ccwgqdqrrmvt.eu-west-1.rds.amazonaws.com\",\n",
    "    \"port\": \"1433\"\n",
    "}\n",
    "\n",
    "engine = create_engine(\n",
    "    'mssql+pymssql://' +\n",
    "    secret['username'] + ':' + secret['password'] + '@' + secret['host'] + ':' +\n",
    "    str(secret['port']) + '/Corona'\n",
    "\n",
    ")\n",
    "\n",
    "session = sessionmaker()(bind=engine)"
   ]
  },
  {
   "cell_type": "markdown",
   "metadata": {},
   "source": [
    "#### Import Data"
   ]
  },
  {
   "cell_type": "markdown",
   "metadata": {},
   "source": [
    "##### Confirmed_Cases"
   ]
  },
  {
   "cell_type": "code",
   "execution_count": 4,
   "metadata": {},
   "outputs": [],
   "source": [
    "df_C = pd.read_csv(\"https://raw.githubusercontent.com/CSSEGISandData/COVID-19/master/csse_covid_19_data/csse_covid_19_time_series/time_series_covid19_confirmed_global.csv\")"
   ]
  },
  {
   "cell_type": "markdown",
   "metadata": {},
   "source": [
    "##### Deaths"
   ]
  },
  {
   "cell_type": "code",
   "execution_count": null,
   "metadata": {},
   "outputs": [],
   "source": [
    "df_D = pd.read_csv(\"https://raw.githubusercontent.com/CSSEGISandData/COVID-19/master/csse_covid_19_data/csse_covid_19_time_series/time_series_covid19_deaths_global.csv\")"
   ]
  },
  {
   "cell_type": "markdown",
   "metadata": {},
   "source": [
    "#### Clean Data"
   ]
  },
  {
   "cell_type": "markdown",
   "metadata": {},
   "source": [
    "##### Clean Confirmed Cases"
   ]
  },
  {
   "cell_type": "code",
   "execution_count": 4,
   "metadata": {},
   "outputs": [],
   "source": [
    "df_C = df_C.melt(id_vars = [\"Country/Region\",\"Lat\",\"Long\",\"Province/State\"])\n",
    "\n",
    "df_C_country_level = df_C.groupby([\"Country/Region\",\"variable\"]).sum()\n",
    "\n",
    "df_C_country_level = df_C_country_level.reset_index()\n",
    "\n",
    "df_C_country_level[\"Date\"] = df_C_country_level.variable.apply(lambda x: pd.to_datetime(x))\n",
    "\n",
    "df_C_country_level = df_C_country_level[df_C_country_level[\"value\"]!=0]"
   ]
  },
  {
   "cell_type": "markdown",
   "metadata": {},
   "source": [
    "##### Clean Deaths"
   ]
  },
  {
   "cell_type": "code",
   "execution_count": 5,
   "metadata": {},
   "outputs": [],
   "source": [
    "df_D = df_D.melt(id_vars = [\"Country/Region\",\"Lat\",\"Long\",\"Province/State\"])\n",
    "\n",
    "df_D_country_level = df_D.groupby([\"Country/Region\",\"variable\"]).sum()\n",
    "\n",
    "df_D_country_level = df_D_country_level.reset_index()\n",
    "\n",
    "df_D_country_level[\"Date\"] = df_D_country_level.variable.apply(lambda x: pd.to_datetime(x))\n",
    "\n",
    "df_D_country_level = df_D_country_level[df_D_country_level[\"value\"]!=0]"
   ]
  },
  {
   "cell_type": "markdown",
   "metadata": {},
   "source": [
    "#### Merge deaths with confirmed cases"
   ]
  },
  {
   "cell_type": "code",
   "execution_count": 6,
   "metadata": {},
   "outputs": [],
   "source": [
    "df_merge = df_C_country_level.merge(df_D_country_level ,on = [\"Country/Region\",\"Date\"],how = \"left\")"
   ]
  },
  {
   "cell_type": "markdown",
   "metadata": {},
   "source": [
    "#### Cleaning Merged Data"
   ]
  },
  {
   "cell_type": "code",
   "execution_count": 7,
   "metadata": {},
   "outputs": [],
   "source": [
    "def error(x):\n",
    "    if pd.isnull(x):\n",
    "        return 0\n",
    "    else:\n",
    "        return x\n",
    "    \n",
    "df_merge[\"deaths\"] = df_merge.value_y.apply(lambda x: error(x))"
   ]
  },
  {
   "cell_type": "markdown",
   "metadata": {},
   "source": [
    "#### Upload data to SQL"
   ]
  },
  {
   "cell_type": "code",
   "execution_count": 4,
   "metadata": {},
   "outputs": [],
   "source": [
    "for i in range(len(df_merge)):\n",
    "    \n",
    "    ## Check Country exisits\n",
    "    Country = session.query(m.Country).filter(m.Country.country == df_merge[\"Country/Region\"][i]).first()\n",
    "    if Country is None:\n",
    "        Country = m.Country(country = df_merge[\"Country/Region\"][i])\n",
    "        session.add(Country)\n",
    "        session.commit()\n",
    "    \n",
    "    Cases = m.Cases( \n",
    "                        date = df_merge[\"Date\"][i],\n",
    "                        confirmed = int(df_merge[\"value_x\"][i]),\n",
    "                        deaths = int(df_merge[\"deaths\"][i]),\n",
    "                        country_id = Country.id\n",
    "    )\n",
    "    \n",
    "    session.add(Cases)\n",
    "    \n",
    "session.commit()\n",
    "session.close()"
   ]
  }
 ],
 "metadata": {
  "kernelspec": {
   "display_name": "Python 3",
   "language": "python",
   "name": "python3"
  },
  "language_info": {
   "codemirror_mode": {
    "name": "ipython",
    "version": 3
   },
   "file_extension": ".py",
   "mimetype": "text/x-python",
   "name": "python",
   "nbconvert_exporter": "python",
   "pygments_lexer": "ipython3",
   "version": "3.7.4"
  }
 },
 "nbformat": 4,
 "nbformat_minor": 4
}
